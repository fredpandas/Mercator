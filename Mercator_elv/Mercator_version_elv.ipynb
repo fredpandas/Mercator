{
 "cells": [
  {
   "cell_type": "markdown",
   "metadata": {},
   "source": [
    "<div id=\"titre\">\n",
    "<h1 style=\"color:white;\n",
    "  font-family:Comic Sans MS;\n",
    "  font-size:3em;\n",
    "  background-color:#D0573B;\n",
    "  text-align:center;\n",
    "  padding:10px\">Carte de Mercator </h1>\n",
    "<div style=\"font-family:Comic Sans MS; background-color:black;box-shadow: 8px 8px 0px #aaa; text-align:center; width: 50%; color:white\">TP  - Terminale</div>\n",
    "</div>"
   ]
  },
  {
   "cell_type": "markdown",
   "metadata": {},
   "source": [
    "Un bateau part du point $M$ repéré par :\n",
    "        <table style=\"border-width:3px;border-style:solid;border-color:gray;border-collapse:collapse;\">\n",
    "   <tr style=\"border:2px solid black;\">\n",
    "       <td style=\"border:2px solid black;text-align:left;border-color:white\" bgcolor=\"white\" width=\"350\">\n",
    "           <ul>\n",
    "               <li>sa <b>longitude</b>, angle noté $\\lambda$, <i>(exprimé en radian)</i></li>\n",
    "               <br>\n",
    "               <li>sa <b>latitude</b>, angle noté $\\varphi$, <i>(exprimé en radian)</i></li>\n",
    "               <br>\n",
    "               <li> Généralement, on choisit : \n",
    "                   <ul>\n",
    "                       <li>$\\lambda\\in\\left[-\\pi\\,,\\,\\pi\\right]$</li>\n",
    "                       <br>\n",
    "                       <li>$\\varphi\\in\\left]-\\dfrac{\\pi}{2}\\,,\\,\\dfrac{\\pi}{2}\\right[$</li>\n",
    "                   </ul>\n",
    "               </li>\n",
    "           </ul>\n",
    "       </td>\n",
    "       <td style=\"border:2px solid black;text-align:center;border-color:white\" bgcolor=\"white\" width=\"500\">\n",
    "           <img src='figure.png' style='height:250px'>\n",
    "       </td>\n",
    "   </tr>\n",
    "        </table>\n",
    "        pour rejoindre un point $N$ repéré par :\n",
    "        <table style=\"border-width:3px;border-style:solid;border-color:gray;border-collapse:collapse;\">\n",
    "   <tr style=\"border:2px solid black;\">\n",
    "       <td style=\"border:2px solid black;text-align:left;border-color:white\" bgcolor=\"white\" width=\"250\">\n",
    "           <ul>\n",
    "            <li>sa <b>longitude</b>, angle noté $\\lambda+\\Delta\\lambda$ </li>\n",
    "               <br>\n",
    "            <li>sa <b>latitude</b>, angle noté $\\varphi+\\Delta\\varphi$ </li>\n",
    "           </ul>\n",
    "       </td>\n",
    "       <td style=\"border:2px solid black;text-align:center;border-color:white\" bgcolor=\"white\" width=\"600\">\n",
    "          <img src='terre.svg' style='width:600px' >\n",
    "       </td>\n",
    "   </tr>\n",
    "        </table> \n",
    "<b>L'azimut $v$</b> du bateau au point $M$ est l'angle fait entre la direction du bateau et le <span style='color:green'>méridien</span> passant par $M$. <br>L'azimut est appelée aussi le <b>cap</b> du bateau.\n",
    "<table style=\"border-width:3px;border-style:solid;border-color:gray;border-collapse:collapse;\">\n",
    "   <tr style=\"border:2px solid black;\">\n",
    "       <td style=\"border:2px solid black;text-align:left;border-color:white\" bgcolor=\"white\" width=\"400\">\n",
    "           <ul>\n",
    "               <li>La route de $M$ à $N$, d'azimut constante $v$, <br>est appelée  <b>loxodromie</b> de $M$ à $N$ et est notée : $$M\\rightarrow N.$$</li>\n",
    "               <br>\n",
    "               <li><b>Mercator</b> (1512-1594), mathématicien et géographe flamand, proposa <span style='color:blue'>une carte</span> sur laquelle on peut placer les points $M$ et $N$ de sorte que :\n",
    "                   <blockquote style=\"border-left: 3px solid black;background-color:rgb(117, 129, 172)\">\n",
    "                       <ul>\n",
    "                           <li>la loxodromie $M\\rightarrow N$ (d'azimut $v$) soit un segment</li>\n",
    "                           <li>L'azimut $v$ soit <b>conservée</b> par lecture sur la carte.</li>\n",
    "                       </ul>\n",
    "                   </blockquote>\n",
    "               </li>\n",
    "               <br>\n",
    "               <br><span style='color:blue'>Sur cette carte :</span>\n",
    "               <ul>\n",
    "                   <li>$M\\left(\\lambda\\,,\\,y\\right)\\ \\text{et}\\ N\\left(\\lambda+\\Delta\\lambda\\,,\\,y+\\Delta y\\right).$\n",
    "                   </li>\n",
    "                   <li>Les méridiens sont perpendiculaires aux parallèles</li>\n",
    "               </ul>\n",
    "           </ul>\n",
    "       </td>\n",
    "       <td style=\"border:2px solid black;text-align:center;border-color:white\" bgcolor=\"white\" width=\"450\">\n",
    "          <img src='figure_terre_mercator.png' style='width:450px'>\n",
    "       </td>\n",
    "   </tr>\n",
    "</table>\n",
    "\n",
    "<img src='mercator-atlas.jpg' style='width:450px'>\n",
    "        \n",
    "        \n",
    "<b><u>Objectif</u></b>\n",
    "<blockquote style=\"border-left: 10px solid black;background-color:rgb(28, 179, 97)\">\n",
    "L'ordonnée $y$ du point $M$ est fonction de sa latitude $\\varphi$, cette fonction est notée $f$ : $$y=f\\left(\\varphi\\right).$$ \n",
    "    <ul>\n",
    "        <li>Déterminons l'expression de $f$ ;</li>\n",
    "        <li>Réprésentons la carte de Mercator ;</li>\n",
    "        <li>Travaillons sur un exemple.</li>\n",
    "    </ul>\n",
    "</blockquote>"
   ]
  },
  {
   "cell_type": "markdown",
   "metadata": {},
   "source": [
    "<h1 style=\"color:white;background-color:black;text-align:center\"> Partie A : Expression de $f$</h1>"
   ]
  },
  {
   "cell_type": "markdown",
   "metadata": {},
   "source": [
    "<div style='background-color:rgb(117, 129, 172);padding:10px;text-align:center;color:white'><b>Les coordonnées GPS $\\lambda$, $\\varphi$, etc, sont <u>en radians</u></b></div>"
   ]
  },
  {
   "cell_type": "markdown",
   "metadata": {},
   "source": [
    "<span style='color:white;font-weight:bold;background-color:black;width:12px;padding: 2px;font-size:20px'>1.</span> Traduction de : \"le cap du bateau est constant\""
   ]
  },
  {
   "cell_type": "markdown",
   "metadata": {},
   "source": [
    "<span style='color:white;font-weight:bold;background-color:#F0573B;padding: 2px;font-size:20px'>a.</span> <b><u>Sur le globe Terrestre</u></b>\n",
    "<table style=\"border-width:3px;border-style:solid;border-color:white;border-collapse:collapse;\">\n",
    "   <tr style=\"border:2px solid white;\">\n",
    "       <td style=\"border:2px solid black;text-align:left;border-color:white\" bgcolor=\"white\" width=\"410\">\n",
    "           Justifier que la longueur de la corde $\\overset{\\huge{\\frown}}{MH\\:}$ est :\n",
    "           <br>\n",
    "           <br> $$\\text{long}(MH) = R\\cos\\left(\\varphi\\right)\\Delta\\lambda.$$\n",
    "           <br>où $R$ le rayon de la Terre.\n",
    "       </td>\n",
    "       <td style=\"border:2px solid black;text-align:center;border-color:white\" bgcolor=\"white\" width=\"450\">\n",
    "          <img src='figure_terre_mercator.png' style='width:450px'>\n",
    "       </td>\n",
    "   </tr>\n",
    "</table>"
   ]
  },
  {
   "cell_type": "markdown",
   "metadata": {},
   "source": [
    "<span style='color:white;font-weight:bold;background-color:#F0573B;padding: 2px;font-size:20px'>b.</span> Quelle est la longueur de la corde $\\overset{\\huge{\\frown}}{HN\\:}$ ?"
   ]
  },
  {
   "cell_type": "markdown",
   "metadata": {},
   "source": [
    "<span style='background-color:rgb(117, 129, 172);padding:10px'><b>Supposons</b> que les points $M$ et $N$ soient très proches.</span>\n",
    "<br><br><b>Conséquence : </b>On pourra alors considérer que le triangle sphérique $MHN$ est aplati. "
   ]
  },
  {
   "cell_type": "markdown",
   "metadata": {},
   "source": [
    "<span style='color:white;font-weight:bold;background-color:#F0573B;padding: 2px;font-size:20px'>c.</span> Justifier que $\\tan(v)=\\dfrac{R\\cos\\left(\\varphi\\right)\\Delta\\lambda}{R\\Delta\\varphi}$."
   ]
  },
  {
   "cell_type": "markdown",
   "metadata": {},
   "source": [
    "<span style='color:white;font-weight:bold;background-color:#F0573B;padding: 2px;font-size:20px'>d.</span> <b><u>Sur la carte de Mercator</u></b>, calculer $\\tan(v)$ puis en déduire que\n",
    "<br>\n",
    "<br> $$\\dfrac{\\Delta y}{\\Delta\\varphi}=\\dfrac{1}{\\cos\\left(\\varphi\\right)}.$$\n",
    "<br>\n",
    "<blockquote style=\"border-left: 2px solid black;background-color:rgb(117, 129, 172)\">\n",
    "<b>Conséquence : </b>\n",
    "    <ul>\n",
    "        <li>on pourra alors considérer que $$f'\\left(\\varphi\\right)=\\dfrac{1}{\\cos\\left(\\varphi\\right)},$$\n",
    "            pour tout $\\varphi\\in\\left]-\\dfrac{\\pi}{2}\\,,\\,\\dfrac{\\pi}{2}\\right[$</li>\n",
    "        <li>$f(0)=0$, puisque la latitude d'un point sur la carte de <b>Mercator</b> doit être nulle si celui-ci a sa latitude nulle.</li>\n",
    "    </ul>\n",
    "</blockquote>"
   ]
  },
  {
   "cell_type": "markdown",
   "metadata": {},
   "source": [
    "<span style='color:white;font-weight:bold;background-color:black;width:12px;padding: 2px;font-size:20px'>2.</span> Valeur approchée de $f\\left(\\varphi\\right)$"
   ]
  },
  {
   "cell_type": "markdown",
   "metadata": {},
   "source": [
    "<span style='color:white;font-weight:bold;background-color:#F0573B;padding: 2px;font-size:20px'>a.</span> charger le module <code>math</code> intégralement."
   ]
  },
  {
   "cell_type": "code",
   "execution_count": null,
   "metadata": {},
   "outputs": [],
   "source": [
    "from math import *"
   ]
  },
  {
   "cell_type": "markdown",
   "metadata": {},
   "source": [
    "<span style='background-color:lightgreen;padding:10px'>La fonction <code>cos</code> du module <code>math</code> permet de calculer le cosinus d'un angle exprimé en radian.</span>"
   ]
  },
  {
   "cell_type": "markdown",
   "metadata": {},
   "source": [
    "<span style='color:white;font-weight:bold;background-color:#F0573B;padding: 2px;font-size:20px'>b.</span> Compléter la fonction <code>euler</code> de paramètre <code>lat</code> <i>(une latitude positive, exprimée en radian)</i> qui renvoie la valeur approchée de $f(\\text{lat})$ par la méthode d'Euler."
   ]
  },
  {
   "cell_type": "code",
   "execution_count": null,
   "metadata": {},
   "outputs": [],
   "source": [
    "def euler(lat):\n",
    "    x = 0\n",
    "    y = 0\n",
    "    pas = lat/100\n",
    "    for k in range(100):\n",
    "        y = y + ........\n",
    "        x = x + ........ \n",
    "    return y    "
   ]
  },
  {
   "cell_type": "markdown",
   "metadata": {},
   "source": [
    "<span style='color:white;font-weight:bold;background-color:#F0573B;padding: 2px;font-size:20px'>c.</span> Donner une valeur approchée de $f\\left(\\dfrac{\\pi}{4}\\right)$."
   ]
  },
  {
   "cell_type": "code",
   "execution_count": null,
   "metadata": {},
   "outputs": [],
   "source": []
  },
  {
   "cell_type": "markdown",
   "metadata": {},
   "source": [
    "<span style='color:white;font-weight:bold;background-color:black;width:12px;padding: 2px;font-size:20px'>3.</span> Expression exacte de $f$"
   ]
  },
  {
   "cell_type": "markdown",
   "metadata": {},
   "source": [
    "Démontrer que : $$f(x)=\\text{ln}\\left(\\text{tan}\\left(\\dfrac{x}{2}+\\dfrac{\\pi}{4}\\right)\\right),$$ pour tout $x\\in\\left]-\\dfrac{\\pi}{2}\\,,\\,\\dfrac{\\pi}{2}\\right[$. \n",
    "<br><b>Remarque :</b> $x$ désigne la mesure d'une latitude, exprimée en radian."
   ]
  },
  {
   "cell_type": "markdown",
   "metadata": {},
   "source": [
    "<span style='color:white;font-weight:bold;background-color:black;width:12px;padding: 2px;font-size:20px'>4.</span> Implémentation de la fonction $f$"
   ]
  },
  {
   "cell_type": "markdown",
   "metadata": {},
   "source": [
    "Compléter la fonction nommée <code>f</code> de paramètre <code>x</code> qui renvoie $f(x)$."
   ]
  },
  {
   "cell_type": "code",
   "execution_count": null,
   "metadata": {},
   "outputs": [],
   "source": [
    "def f(x):\n",
    "    return ..........................."
   ]
  },
  {
   "cell_type": "markdown",
   "metadata": {},
   "source": [
    "<div style='background-color:lightgreen;padding:10px'><b>Avec Python :</b> dans le module <code>math</code> \n",
    "    <ul>\n",
    "        <li><code>pi</code> est la variable contenant les premières décimales de $\\pi$ ;</li>\n",
    "        <li>La fonction <code>log</code> permet de calculer le logarithme népérien ;</li>\n",
    "        <li>La fonction <code>tan</code> permet de calculer la tangente d'un angle exprimé en radian.</li>\n",
    "    </ul>\n",
    "</div>"
   ]
  },
  {
   "cell_type": "markdown",
   "metadata": {},
   "source": [
    "<span style='color:white;font-weight:bold;background-color:black;width:12px;padding: 2px;font-size:20px'>5.</span> Comparaisons entre valeur approchée et valeur exacte"
   ]
  },
  {
   "cell_type": "markdown",
   "metadata": {},
   "source": [
    "<span style='color:white;font-weight:bold;background-color:#F0573B;padding: 2px;font-size:20px'>a.</span> Compléter le code suivant pour obtenir une fonction qui transforme la mesure d'un angle exprimée en degré en sa mesure exprimée en radian."
   ]
  },
  {
   "cell_type": "code",
   "execution_count": null,
   "metadata": {},
   "outputs": [],
   "source": [
    "def deg_to_rad(mes_deg):\n",
    "    return ....................."
   ]
  },
  {
   "cell_type": "markdown",
   "metadata": {},
   "source": [
    "<span style='color:white;font-weight:bold;background-color:#F0573B;padding: 2px;font-size:20px'>b.</span> Exécuter la cellule ci-dessous.\n",
    "<ul> \n",
    "    <li>Décrire ce que représente chaque nuage de points.</li> \n",
    "    <li> Que peut-on conclure ?</li>\n",
    "</ul>"
   ]
  },
  {
   "cell_type": "code",
   "execution_count": null,
   "metadata": {},
   "outputs": [],
   "source": [
    "import pylab as pl\n",
    "\n",
    "Lat_degré = [-85 + 5*k for k in range(35)]\n",
    "Lat_rad = [deg_to_rad(y) for y in Lat_degré]\n",
    "for x in Lat_rad:\n",
    "    if x>0:\n",
    "        pl.plot(x,euler(x),'o',color='red')\n",
    "    else:\n",
    "        pl.plot(x,-euler(-x),'o',color='red')\n",
    "    pl.plot(x,f(x),'x',color='blue')"
   ]
  },
  {
   "cell_type": "markdown",
   "metadata": {},
   "source": [
    "<h1 style=\"color:white;background-color:black;text-align:center\"> Partie B : Carte de Mercator avec plotly</h1>"
   ]
  },
  {
   "cell_type": "markdown",
   "metadata": {},
   "source": [
    "<ul>\n",
    "    <li>Exécuter la cellule suivante.</li>\n",
    "    <li>Préciser le nom des deux villes qui ont été représentées et donner leurs coordonnées GPS.</li>\n",
    "</ul>"
   ]
  },
  {
   "cell_type": "code",
   "execution_count": null,
   "metadata": {},
   "outputs": [],
   "source": [
    "import plotly.graph_objects as go\n",
    "\n",
    "O = [0,0,'O']\n",
    "B = [-4.4906,48.3889,'Brest']\n",
    "R = [-43.2093,-22.911,'Rio']\n",
    "\n",
    "fig = go.Figure(go.Scattergeo(lon = [O[0],B[0],R[0]],\n",
    "                              lat = [O[1],B[1],R[1]],\n",
    "                              text = [O[2],B[2],R[2]],\n",
    "                              marker_color = 'red',\n",
    "                              textfont = dict(color = ['red']*3),\n",
    "                              mode = 'markers+text',\n",
    "                              textposition = \"top left\",\n",
    "                              name = 'Points'))\n",
    "fig.update_layout(height = 450,\n",
    "                  margin = {'r':0,'t':1,'l':0,'b':1},\n",
    "                  paper_bgcolor = \"black\",\n",
    "                  legend = dict(x = 0.85, y = 0.5, bgcolor = 'rgb(116, 128, 169)'),\n",
    "                  geo=dict(resolution = 50, bgcolor = 'black',\n",
    "                           showocean = True, oceancolor = 'LightBlue',\n",
    "                           showlakes = True, lakecolor = 'rgb(48, 82, 196)',\n",
    "                           showcountries = True, showcoastlines = True,\n",
    "                           showrivers = True, rivercolor = \"rgb(48, 82, 196)\",\n",
    "                           countrycolor = 'rgb(168, 27, 53)',\n",
    "                           landcolor = 'rgb(79, 158, 60)',\n",
    "                           lonaxis = dict(showgrid = True,\n",
    "                                          gridcolor = 'white',\n",
    "                                          gridwidth = 0.2,\n",
    "                                          dtick = 10),\n",
    "                           lataxis = dict(showgrid = True,\n",
    "                                          gridcolor = 'white',\n",
    "                                          gridwidth = 0.2,\n",
    "                                          dtick = 10),\n",
    "                           projection_type = 'mercator'))\n",
    "fig.show()"
   ]
  },
  {
   "cell_type": "markdown",
   "metadata": {},
   "source": [
    "<h1 style=\"color:white;background-color:black;text-align:center\"> Partie C : Tracés de loxodromies</h1>"
   ]
  },
  {
   "cell_type": "markdown",
   "metadata": {},
   "source": [
    "<b>Rappel :</b>\n",
    "<ul>\n",
    "    <li>Un point $M\\left(\\lambda\\,,\\,\\varphi\\right)$ sur la Terre est représenté sur la carte de Mercator par le point de coordonnées $M\\left(\\lambda\\,,\\,y\\right)$, avec $$y=f\\left(\\varphi\\right).$$</li>\n",
    "    <li>Aussi $$f(x)=\\text{ln}\\left(\\text{tan}\\left(\\dfrac{x}{2}+\\dfrac{\\pi}{4}\\right)\\right),$$ avec $x$ la mesure de latitude d'un point, exprimée en radian.</li>\n",
    "</ul>"
   ]
  },
  {
   "cell_type": "markdown",
   "metadata": {},
   "source": [
    "<b><u>Objectif</u></b>\n",
    "<blockquote style=\"border-left: 10px solid black;background-color:#D0573B\">\n",
    "<table style=\"border-width:3px;border-style:solid;border-color:#D0573B;border-collapse:collapse;\">\n",
    "   <tr style=\"border:2px solid black;\">\n",
    "       <td style=\"border:2px solid black;text-align:left;border-color:white\" bgcolor=\"#D0573B\" width=\"450\">\n",
    "Sur la carte précédente, on a placé :\n",
    "    <ul>\n",
    "        <li>$R\\left(\\lambda_1\\,,\\,f\\left(\\varphi_1\\right)\\right)$</li>\n",
    "        <li>$B\\left(\\lambda_2\\,,\\,f\\left(\\varphi_2\\right)\\right)$</li>\n",
    "    </ul>\n",
    "   On souhaite représenter la loxodromie  $$R\\rightarrow B$$ ayant pour cap constant $v$.\n",
    "   </td>\n",
    "   <td style=\"border:2px solid black;text-align:left;border-color:white\" bgcolor=\"white\" width=\"450\">\n",
    "   <img src='figure_mercator_seule.png' style='width:250px'>\n",
    "   </td> \n",
    "    </tr>\n",
    "    </table>\n",
    "</blockquote>"
   ]
  },
  {
   "cell_type": "markdown",
   "metadata": {},
   "source": [
    "<span style='color:white;font-weight:bold;background-color:black;width:12px;padding: 2px;font-size:20px'>1.</span> Conversions en radians\n",
    "<ul>\n",
    "    <li>Pour le point $R$, calculer : \n",
    "        <ul>\n",
    "            <li>sa latitude en radian, stockée dans la variable <code>xR</code></li>\n",
    "            <li>sa longitude en radian, stockée dans la variable <code>yR</code></li>\n",
    "        </ul>\n",
    "    </li>\n",
    "    <li>Pour le point $N$, calculer : \n",
    "        <ul>\n",
    "            <li>sa latitude en radian, stockée dans la variable <code>xN</code></li>\n",
    "            <li>sa longitude en radian, stockée dans la variable <code>yN</code></li>\n",
    "        </ul>\n",
    "    </li>\n",
    "</ul>"
   ]
  },
  {
   "cell_type": "code",
   "execution_count": null,
   "metadata": {},
   "outputs": [],
   "source": [
    "xR, yR = deg_to_rad(R[0]), deg_to_rad(......)\n",
    "xB, yB = deg_to_rad(.....), deg_to_rad(.......)"
   ]
  },
  {
   "cell_type": "markdown",
   "metadata": {},
   "source": [
    "<span style='color:white;font-weight:bold;background-color:black;width:12px;padding: 2px;font-size:20px'>2.</span> Détermination de $v$"
   ]
  },
  {
   "cell_type": "markdown",
   "metadata": {},
   "source": [
    "<span style='color:white;font-weight:bold;background-color:#F0573B;padding: 2px;font-size:20px'>a.</span> Calculer $\\tan(v)$ dans une variable <code>a</code>."
   ]
  },
  {
   "cell_type": "code",
   "execution_count": null,
   "metadata": {},
   "outputs": [],
   "source": []
  },
  {
   "cell_type": "markdown",
   "metadata": {},
   "source": [
    "<span style='color:white;font-weight:bold;background-color:#F0573B;padding: 2px;font-size:20px'>b.</span> En déduire une mesure de $v$ exprimée en degré :"
   ]
  },
  {
   "cell_type": "markdown",
   "metadata": {},
   "source": [
    "<b><u>Rappel</u></b>\n",
    "<blockquote style=\"border-left: 10px solid black;background-color:rgb(117, 129, 172)\">\n",
    "    <ul>\n",
    "        <li>Pour tout $x\\in\\left]-\\dfrac{\\pi}{2}\\,,\\,\\dfrac{\\pi}{2}\\right[$ : \n",
    "            <span style='background-color:gray;padding:10px'>$\\tan(x)=a\\Leftrightarrow x=\\tan^{-1}(a)$</span>\n",
    "        </li>\n",
    "        <br>\n",
    "        <li>La fonction <code>atan</code> appartient du module <code>math</code>. \n",
    "            <br><code>atan(x)</code> permet de calculer $\\tan^{-1}(x)$.\n",
    "        </li>\n",
    "    </ul>\n",
    "</blockquote>"
   ]
  },
  {
   "cell_type": "code",
   "execution_count": null,
   "metadata": {},
   "outputs": [],
   "source": []
  },
  {
   "cell_type": "markdown",
   "metadata": {},
   "source": [
    "<span style='color:white;font-weight:bold;background-color:black;width:12px;padding: 2px;font-size:20px'>3.</span> Equation de la loxodromie  $R\\rightarrow B$ sur la carte de Mercator"
   ]
  },
  {
   "cell_type": "markdown",
   "metadata": {},
   "source": [
    "Soit le point $M$ de coordonnées GPS :\n",
    "<ul>\n",
    "    <li>$\\lambda$ sa longitude, <i>exprimée en radian</i></li>\n",
    "    <li>$\\varphi$ sa latitude, <i>exprimée en radian</i></li>\n",
    "    <li>Il est représenté sur la carte de Mercator par le point de coordonnées $\\left(\\lambda\\,,\\,y\\right)$.</li>\n",
    "</ul>"
   ]
  },
  {
   "cell_type": "markdown",
   "metadata": {},
   "source": [
    "<span style='color:white;font-weight:bold;background-color:#F0573B;padding: 2px;font-size:20px'>a.</span> Justifier que $M(\\lambda\\,,\\,y)$ appartient à la loxodromie  $R\\rightarrow B$ équivaut à : $$y=f\\left(\\varphi_R\\right) +\\dfrac{1}{\\tan(v)}\\left(\\lambda-\\lambda_R\\right).$$"
   ]
  },
  {
   "cell_type": "markdown",
   "metadata": {},
   "source": [
    "<span style='color:white;font-weight:bold;background-color:#F0573B;padding: 2px;font-size:20px'>b.</span> Justifier que $y=f\\left(\\varphi\\right)$ équivaut à $\\varphi = 2\\tan^{-1}\\left(\\text{e}^y\\right)-\\dfrac{\\pi}{2}$. "
   ]
  },
  {
   "cell_type": "markdown",
   "metadata": {},
   "source": [
    "<span style='color:white;font-weight:bold;background-color:black;width:12px;padding: 2px;font-size:20px'>4.</span> Représentation de la loxodromie  $R\\rightarrow B$ "
   ]
  },
  {
   "cell_type": "markdown",
   "metadata": {},
   "source": [
    "<span style='color:white;font-weight:bold;background-color:#F0573B;padding: 2px;font-size:20px'>a.</span> Créer la liste nommée <code>Lon</code> contenant $1001$ valeurs équiréparties dans $\\big[$<code>xR</code>$\\,,\\,$<code>xB</code>$\\big]$ :"
   ]
  },
  {
   "cell_type": "code",
   "execution_count": null,
   "metadata": {},
   "outputs": [],
   "source": [
    "Lon = [................................. for k in range(1001)]"
   ]
  },
  {
   "cell_type": "markdown",
   "metadata": {},
   "source": [
    "<span style='color:white;font-weight:bold;background-color:#F0573B;padding: 2px;font-size:20px'>b.</span> Que représente la liste <code>Lon</code> ci-dessous ? "
   ]
  },
  {
   "cell_type": "code",
   "execution_count": null,
   "metadata": {},
   "outputs": [],
   "source": [
    "Lat = []\n",
    "for lon in Lon:\n",
    "    y = f(yR) + 1/T * (lon - xR)\n",
    "    phi = 2*atan(exp(y)) - pi/2\n",
    "    Lat.append(phi)"
   ]
  },
  {
   "cell_type": "markdown",
   "metadata": {},
   "source": [
    "<span style='color:white;font-weight:bold;background-color:#F0573B;padding: 2px;font-size:20px'>c.</span> Créer les listes :\n",
    "<ul>\n",
    "    <li><code>Lon_degré</code> contenant les valeurs <code>Lon</code> converties en degrés ;</li>\n",
    "    <li><code>Lat_degré</code> contenant les valeurs <code>Lat</code> converties en degrés.</li>\n",
    "</ul>"
   ]
  },
  {
   "cell_type": "code",
   "execution_count": null,
   "metadata": {},
   "outputs": [],
   "source": [
    "Lon_degré = \n",
    "Lat_degré = "
   ]
  },
  {
   "cell_type": "markdown",
   "metadata": {},
   "source": [
    "<span style='color:white;font-weight:bold;background-color:#F0573B;padding: 2px;font-size:20px'>d.</span> Pour représenter la loxodromie $M\\rightarrow N$ sur la carte, exécuter :"
   ]
  },
  {
   "cell_type": "code",
   "execution_count": null,
   "metadata": {},
   "outputs": [],
   "source": [
    "fig.add_trace(go.Scattergeo(lon = Lon_degré,lat = Lat_degré,\n",
    "                            mode = 'lines',name = \"loxodromie\"))"
   ]
  },
  {
   "cell_type": "markdown",
   "metadata": {},
   "source": [
    "<span style='color:white;font-weight:bold;background-color:black;width:12px;padding: 2px;font-size:20px'>5.</span> Représentation de l'orthodromie de $R$ à $B$ "
   ]
  },
  {
   "cell_type": "markdown",
   "metadata": {},
   "source": [
    "<span style='color:white;font-weight:bold;background-color:#F0573B;padding: 2px;font-size:20px'>a.</span> A quoi correspond l'orthodromie de $R$ à $B$ ?"
   ]
  },
  {
   "cell_type": "markdown",
   "metadata": {},
   "source": [
    "<span style='color:white;font-weight:bold;background-color:#F0573B;padding: 2px;font-size:20px'>b.</span> Pour la représenter par-dessus la carte, exécuter le code suivant :"
   ]
  },
  {
   "cell_type": "code",
   "execution_count": null,
   "metadata": {},
   "outputs": [],
   "source": [
    "fig.add_trace(go.Scattergeo(lon = [R[0],B[0]],lat = [R[1],B[1]],mode = 'lines',\n",
    "                            line = dict(color = 'black'),name = \"orthodromie\"))"
   ]
  },
  {
   "cell_type": "markdown",
   "metadata": {},
   "source": [
    "<span style='color:white;font-weight:bold;background-color:#F0573B;padding: 2px;font-size:20px'>c.</span> Que peut-on conseiller à un bateau, pour aller plus vite ?"
   ]
  },
  {
   "cell_type": "code",
   "execution_count": null,
   "metadata": {},
   "outputs": [],
   "source": [
    "fig.update_geos(projection = dict(type = 'orthographic',\n",
    "                                  rotation = dict(lon = 0,lat = 10,roll = 0)))"
   ]
  },
  {
   "cell_type": "markdown",
   "metadata": {},
   "source": [
    "<span style='color:white;font-weight:bold;background-color:black;width:12px;padding: 2px;font-size:20px'>6.</span> Représentation de la loxodromie  partant de $R$ avec un cap $v=\\dfrac{\\pi}{3}$ "
   ]
  },
  {
   "cell_type": "markdown",
   "metadata": {},
   "source": [
    "<span style='color:white;font-weight:bold;background-color:#F0573B;padding: 2px;font-size:20px'>a.</span> Tracer la loxodromie qui :\n",
    "<ul>\n",
    "    <li>part du point $R$ et qui a pour azimut $v=\\dfrac{\\pi}{3}$.</li>\n",
    "    <li>réalise un accroissement de $8\\pi$ en longitude</li>\n",
    "</ul>"
   ]
  },
  {
   "cell_type": "code",
   "execution_count": null,
   "metadata": {},
   "outputs": [],
   "source": [
    "X = [xR + k/10000*(........ - xR) for k in range(10001)]\n",
    "Lat = []\n",
    "for x in X:\n",
    "    y = .........................................\n",
    "    phi = .......................................\n",
    "    Lat.append(phi)\n",
    "Lon_degré = [................ for x in X]\n",
    "Lat_degré = [................ for y in Lat]\n",
    "fig.add_trace(go.Scattergeo(lon = Lon_degré,lat = Lat_degré,mode = 'lines',\n",
    "                            line = dict(color = 'orange'),name = 'loxodromie de cap 30°'))"
   ]
  },
  {
   "cell_type": "markdown",
   "metadata": {},
   "source": [
    "<span style='color:white;font-weight:bold;background-color:#F0573B;padding: 2px;font-size:20px'>b.</span> Comment choisir l'azimut $v$ pour que la route passe en-dessous de $O$ ?"
   ]
  },
  {
   "cell_type": "code",
   "execution_count": null,
   "metadata": {},
   "outputs": [],
   "source": []
  }
 ],
 "metadata": {
  "kernelspec": {
   "display_name": "Python 3",
   "language": "python",
   "name": "python3"
  },
  "language_info": {
   "codemirror_mode": {
    "name": "ipython",
    "version": 3
   },
   "file_extension": ".py",
   "mimetype": "text/x-python",
   "name": "python",
   "nbconvert_exporter": "python",
   "pygments_lexer": "ipython3",
   "version": "3.7.6"
  }
 },
 "nbformat": 4,
 "nbformat_minor": 4
}
